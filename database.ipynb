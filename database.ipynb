{
 "cells": [
  {
   "cell_type": "code",
   "execution_count": 21,
   "metadata": {},
   "outputs": [],
   "source": [
    "import sys\n",
    "import mysql.connector\n",
    "import re\n",
    "import smtplib\n",
    "import pywhatkit\n",
    "from datetime import datetime"
   ]
  },
  {
   "cell_type": "code",
   "execution_count": 19,
   "metadata": {},
   "outputs": [],
   "source": [
    "conn = mysql.connector.connect(host = \"localhost\", user = \"root\",passwd = \"password\", database = \"detail\")\n",
    "curr = conn.cursor()"
   ]
  },
  {
   "cell_type": "code",
   "execution_count": 56,
   "metadata": {},
   "outputs": [],
   "source": [
    "curr.execute(\"\"\"create table customers( id INT AUTO_INCREMENT PRIMARY KEY,name varchar(20) not null,mail varchar(30) unique not null, mobile varchar(10) unique not null, subscription varchar(10) not null)\"\"\")"
   ]
  },
  {
   "cell_type": "code",
   "execution_count": 20,
   "metadata": {},
   "outputs": [
    {
     "name": "stderr",
     "output_type": "stream",
     "text": [
      "t=2023-11-11T12:28:49+0530 lvl=eror msg=\"heartbeat timeout, terminating session\" obj=tunnels.session obj=csess id=b896805ad3da clientid=547b61a76ba5bfb430c410a9c90e47fc\n",
      "t=2023-11-11T12:28:49+0530 lvl=eror msg=\"session closed, starting reconnect loop\" obj=tunnels.session obj=csess id=6489776fdca4 err=\"session closed\"\n",
      "t=2023-11-11T12:28:59+0530 lvl=eror msg=\"failed to reconnect session\" obj=tunnels.session obj=csess id=6489776fdca4 err=\"failed to dial ngrok server with address \\\"connect.us.ngrok-agent.com:443\\\": dial tcp [2600:1f16:d83:1201::6e74:1]:443: i/o timeout\"\n",
      "t=2023-11-11T12:29:10+0530 lvl=eror msg=\"failed to reconnect session\" obj=tunnels.session obj=csess id=6489776fdca4 err=\"failed to dial ngrok server with address \\\"connect.us.ngrok-agent.com:443\\\": dial tcp [2600:1f16:d83:1201::6e74:1]:443: i/o timeout\"\n"
     ]
    }
   ],
   "source": [
    "curr.execute(\"drop table customers\");"
   ]
  },
  {
   "cell_type": "code",
   "execution_count": 47,
   "metadata": {},
   "outputs": [
    {
     "name": "stdout",
     "output_type": "stream",
     "text": [
      "   S.no                        mail         Name      mobile subscription\n",
      "0     1          2112100@nec.edu.in  MITHUNKUMAR  7094109380     whatsapp\n",
      "1     2          seksubha@gmail.com        SUBHA  9751025203         mail\n",
      "2     3  devadharshini778@gmail.com         DEVA  9751623002         mail\n",
      "3     4          2112071@nec.edu.in       DIMPLE  7806834392     whatsapp\n",
      "4     5   mithunsubha2015@gmail.com     SHAMPATH  7373124250         mail\n"
     ]
    }
   ],
   "source": [
    "import pandas as pd\n",
    "\n",
    "df = pd.read_excel(r\"C:\\Users\\mithu\\OneDrive\\Desktop\\python programs\\details.xlsx\",engine=\"openpyxl\")\n",
    "print(df.head())"
   ]
  },
  {
   "cell_type": "code",
   "execution_count": 48,
   "metadata": {},
   "outputs": [
    {
     "name": "stdout",
     "output_type": "stream",
     "text": [
      "Index(['S.no', 'mail', 'Name', 'mobile', 'subscription'], dtype='object')\n"
     ]
    }
   ],
   "source": [
    "columns  = df.columns\n",
    "print(columns)"
   ]
  },
  {
   "cell_type": "code",
   "execution_count": 49,
   "metadata": {},
   "outputs": [
    {
     "name": "stdout",
     "output_type": "stream",
     "text": [
      "5\n"
     ]
    }
   ],
   "source": [
    "columns  = columns[1::]\n",
    "length = len(df[columns[0]])\n",
    "print(length)"
   ]
  },
  {
   "cell_type": "code",
   "execution_count": 57,
   "metadata": {},
   "outputs": [],
   "source": [
    "curr.execute(\"delete from customers\");"
   ]
  },
  {
   "cell_type": "code",
   "execution_count": 59,
   "metadata": {},
   "outputs": [],
   "source": [
    "start = \"9876\"\n",
    "for x in range(length):\n",
    "    name1,mail1,phno1,sub1 = \"\",\"\",\"\",\"\"\n",
    "    for y in columns:\n",
    "        \n",
    "        if(y==\"mobile\"):\n",
    "            k = str(df[y].iloc[x])\n",
    "            if(len(k)==10 and k[0] in start):\n",
    "                phno1 = str(df[y].iloc[x])\n",
    "        elif(y==\"mail\"):\n",
    "            mail1 = df[y].iloc[x]\n",
    "        elif(y==\"Name\"):\n",
    "            name1 = df[y].iloc[x]\n",
    "        elif(y==\"subscription\"):\n",
    "            sub1 = df[y].iloc[x]\n",
    "    query = \"insert into customers(name,mail,mobile,subscription) values(%s,%s,%s,%s)\"\n",
    "    curr.execute(query,(name1,mail1,phno1,sub1))\n",
    "#conn.execute(\"insert into customers(name,email,phno) values(?,?,?)\",(\"Deva\",\"2112048@nec.edu.in\",\"7094109383\"))"
   ]
  },
  {
   "cell_type": "code",
   "execution_count": 60,
   "metadata": {},
   "outputs": [
    {
     "name": "stdout",
     "output_type": "stream",
     "text": [
      "(1, 'MITHUNKUMAR', '2112100@nec.edu.in', '7094109380', 'whatsapp')\n",
      "(2, 'SUBHA', 'seksubha@gmail.com', '9751025203', 'mail')\n",
      "(3, 'DEVA', 'devadharshini778@gmail.com', '9751623002', 'mail')\n",
      "(4, 'DIMPLE', '2112071@nec.edu.in', '7806834392', 'whatsapp')\n",
      "(5, 'SHAMPATH', 'mithunsubha2015@gmail.com', '7373124250', 'mail')\n"
     ]
    }
   ],
   "source": [
    "curr.execute(\"select * from customers\");\n",
    "for x in curr.fetchall():\n",
    "    print(x)"
   ]
  },
  {
   "cell_type": "code",
   "execution_count": 61,
   "metadata": {},
   "outputs": [],
   "source": [
    "conn.commit()"
   ]
  },
  {
   "cell_type": "code",
   "execution_count": 77,
   "metadata": {},
   "outputs": [],
   "source": [
    "\n",
    "def trigger_mailorwhatsapp():\n",
    "    s = smtplib.SMTP('smtp.gmail.com', 587)\n",
    "    s.starttls()\n",
    "    s.login(\"2112100@nec.edu.in\", \"dqv5tamv2r\")\n",
    "    curr.execute(\"select name,mail,mobile,subscription from customers\")\n",
    "    for x in curr.fetchall():\n",
    "        k = x[1]\n",
    "        message = \"Welcome \"+x[0]\n",
    "        subs = x[3]\n",
    "        p = str(x[2])\n",
    "        if(subs==\"mail\"):\n",
    "            if(re.match(r'^\\S+@\\S+\\.\\S+$',k)):\n",
    "                s.sendmail(\"2112100@nec.edu.in\",k,message);\n",
    "            print(\"Email sent successfully \",k);\n",
    "        elif(subs==\"whatsapp\"):\n",
    "            if(len(p)==10 and p[0] in start):\n",
    "                cur = datetime.now()\n",
    "                h = cur.hour\n",
    "                m = cur.minute+1\n",
    "                if(m>57):\n",
    "                    h+=1\n",
    "                    m=1\n",
    "                if(p[0]!=\"+\"):\n",
    "                    p =  \"+91\"+p\n",
    "                pywhatkit.sendwhatmsg(p,message,h,m)\n",
    "            print(\"Whatsapp message sent successfully \",p);\n",
    "                \n",
    "            \n",
    "            \n",
    "\n"
   ]
  },
  {
   "cell_type": "code",
   "execution_count": 78,
   "metadata": {},
   "outputs": [
    {
     "name": "stdout",
     "output_type": "stream",
     "text": [
      "In 18 Seconds WhatsApp will open and after 15 Seconds Message will be Delivered!\n",
      "Whatsapp message sent successfully  +917094109380\n",
      "Email sent successfully  seksubha@gmail.com\n",
      "Email sent successfully  devadharshini778@gmail.com\n",
      "In 42 Seconds WhatsApp will open and after 15 Seconds Message will be Delivered!\n",
      "Whatsapp message sent successfully  +917806834392\n",
      "Email sent successfully  mithunsubha2015@gmail.com\n"
     ]
    }
   ],
   "source": [
    "trigger_mailorwhatsapp()"
   ]
  },
  {
   "cell_type": "code",
   "execution_count": null,
   "metadata": {},
   "outputs": [],
   "source": [
    "from flask import Flask, jsonify\n",
    "\n",
    "app = Flask(__name__)\n",
    "\n",
    "@app.route('/api/hello', methods=['GET'])\n",
    "def hello():\n",
    "    return jsonify(message='Hello, this is your Flask API!')\n",
    "\n",
    "if __name__ == '__main__':\n",
    "    app.run(debug=True)\n"
   ]
  }
 ],
 "metadata": {
  "kernelspec": {
   "display_name": "Python 3",
   "language": "python",
   "name": "python3"
  },
  "language_info": {
   "codemirror_mode": {
    "name": "ipython",
    "version": 3
   },
   "file_extension": ".py",
   "mimetype": "text/x-python",
   "name": "python",
   "nbconvert_exporter": "python",
   "pygments_lexer": "ipython3",
   "version": "3.11.3"
  }
 },
 "nbformat": 4,
 "nbformat_minor": 2
}
