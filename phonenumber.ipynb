{
 "cells": [
  {
   "cell_type": "markdown",
   "metadata": {},
   "source": []
  },
  {
   "cell_type": "code",
   "execution_count": 2,
   "metadata": {},
   "outputs": [],
   "source": [
    "import pywhatkit as mithun\n",
    "import pandas as pd"
   ]
  },
  {
   "cell_type": "code",
   "execution_count": 3,
   "metadata": {},
   "outputs": [],
   "source": [
    "df = pd.read_excel(r\"C:\\Users\\mithu\\OneDrive\\Desktop\\python programs\\Student details.xlsx\",engine='openpyxl')"
   ]
  },
  {
   "cell_type": "code",
   "execution_count": 4,
   "metadata": {},
   "outputs": [
    {
     "name": "stdout",
     "output_type": "stream",
     "text": [
      "   S.No       Email Address      Student Name  Section  Register Number  \\\n",
      "0     1  2112044@nec.edu.in         ARAVIND.M  S10 CSE          2112044   \n",
      "1     2  2112045@nec.edu.in          S.DHIVYA  S10 CSE          2112045   \n",
      "2     3  2112047@nec.edu.in  AASHIK NISWIN RJ  S10 CSE          2112047   \n",
      "3     4  2112048@nec.edu.in       ABIVARMAN.G  S10 CSE          2112048   \n",
      "4     5  2112049@nec.edu.in   AFRIN DINUSHA.J  S10 CSE          2112049   \n",
      "\n",
      "   Gender DOB (DD/MM/YYYY)  Student Mobile No Message  \n",
      "0    MALE       09/02/2004         7094109380      Hi  \n",
      "1  FEMALE       18/06/2004       709410938000   Hello  \n",
      "2    MALE       21/03/2003         7806834392      hi  \n",
      "3    MALE       09/02/2004        37094109380   hello  \n",
      "4  FEMALE       29/10/2003         9789283248      hi  \n"
     ]
    }
   ],
   "source": [
    "print(df.head())"
   ]
  },
  {
   "cell_type": "code",
   "execution_count": 5,
   "metadata": {},
   "outputs": [
    {
     "name": "stdout",
     "output_type": "stream",
     "text": [
      "Index(['S.No', 'Email Address', 'Student Name', 'Section', 'Register Number',\n",
      "       'Gender', 'DOB (DD/MM/YYYY)', 'Student Mobile No', 'Message'],\n",
      "      dtype='object')\n"
     ]
    }
   ],
   "source": [
    "columns = df.columns\n",
    "print(columns)"
   ]
  },
  {
   "cell_type": "code",
   "execution_count": 6,
   "metadata": {},
   "outputs": [
    {
     "name": "stdout",
     "output_type": "stream",
     "text": [
      "Student Mobile No\n"
     ]
    }
   ],
   "source": [
    "phno = \"\"\n",
    "start = \"+09876\"\n",
    "for i in columns:\n",
    "  k = str(df[i].iloc[0])\n",
    "  if(len(k)==10 and (k[0] in start)):\n",
    "    phno = i\n",
    "print(phno)\n",
    "\n"
   ]
  },
  {
   "cell_type": "code",
   "execution_count": 7,
   "metadata": {},
   "outputs": [],
   "source": [
    "from datetime import datetime"
   ]
  },
  {
   "cell_type": "code",
   "execution_count": 9,
   "metadata": {},
   "outputs": [
    {
     "name": "stdout",
     "output_type": "stream",
     "text": [
      "ARAVIND.M 7094109380\n",
      "In 19 Seconds WhatsApp will open and after 15 Seconds Message will be Delivered!\n",
      "S.DHIVYA Not a valid Phone number\n",
      "AASHIK NISWIN RJ 7806834392\n",
      "In 45 Seconds WhatsApp will open and after 15 Seconds Message will be Delivered!\n",
      "ABIVARMAN.G Not a valid Phone number\n",
      "AFRIN DINUSHA.J 9789283248\n",
      "In 44 Seconds WhatsApp will open and after 15 Seconds Message will be Delivered!\n",
      "ALAGU NAGASH.G 9025429087\n",
      "In 45 Seconds WhatsApp will open and after 15 Seconds Message will be Delivered!\n",
      "ANUDEVI. R 9751623002\n",
      "In 45 Seconds WhatsApp will open and after 15 Seconds Message will be Delivered!\n",
      "ARAVINDH RAJ.B 9751025203\n",
      "In 45 Seconds WhatsApp will open and after 15 Seconds Message will be Delivered!\n",
      "ARCHANA POWN T 7094109380\n",
      "In 44 Seconds WhatsApp will open and after 15 Seconds Message will be Delivered!\n",
      "ASBAR.J 7094109380\n",
      "In 45 Seconds WhatsApp will open and after 15 Seconds Message will be Delivered!\n"
     ]
    }
   ],
   "source": [
    "length = len(df[phno])\n",
    "for i in range(length):\n",
    "  flag = 0\n",
    "  k = str(df[phno].iloc[i])\n",
    "  if(k[0:3]==\"+91\" and (k[3] in start) and len(k)==13):\n",
    "    flag = 1\n",
    "  elif(k[0]=='0' and (k[1] in start) and len(k)==11):\n",
    "    flag = 1\n",
    "  elif(k[0] in start and len(k)==10):\n",
    "    flag = 1\n",
    "  else:\n",
    "    flag = 0\n",
    "  if(flag==1):\n",
    "    print(df[\"Student Name\"].iloc[i],df[phno].iloc[i])\n",
    "    if(k[0]!='+'):\n",
    "      \n",
    "      curr = datetime.now()\n",
    "      h = curr.hour\n",
    "      m = curr.minute+1\n",
    "      if(m>58):\n",
    "        h+=1\n",
    "        m=1\n",
    "      g = \"+91\"+str(df[phno].iloc[i])\n",
    "    mithun.sendwhatmsg(g,df[\"Message\"].iloc[i],h,m)\n",
    "  else:\n",
    "    print(df[\"Student Name\"].iloc[i],\"Not a valid Phone number\")"
   ]
  }
 ],
 "metadata": {
  "kernelspec": {
   "display_name": "Python 3",
   "language": "python",
   "name": "python3"
  },
  "language_info": {
   "codemirror_mode": {
    "name": "ipython",
    "version": 3
   },
   "file_extension": ".py",
   "mimetype": "text/x-python",
   "name": "python",
   "nbconvert_exporter": "python",
   "pygments_lexer": "ipython3",
   "version": "3.11.3"
  }
 },
 "nbformat": 4,
 "nbformat_minor": 2
}
